{
 "cells": [
  {
   "cell_type": "markdown",
   "metadata": {},
   "source": [
    "# TP : Arbres de décision et fôrets aléatoires\n",
    "\n",
    "\n",
    "## Résumé\n",
    "\n",
    "Un arbre de décision est un modèle de classification hiérarchique : à chaque noeud de l'arbre\n",
    "est associé un test sur une des dimensions $x_i$ de la forme $x_i \\{\\leq,~ >,~ = \\} s$ ($s$ une valeur réelle) qui indique le noeud fils qui doit être sélectionné (par exemple pour un arbre binaire, le fils gauche quand le test est vrai, le fils droit sinon). A chaque feuille de l'arbre est associée une étiquette. Ainsi, la classification d'un exemple consiste en une succession de tests sur les valeurs des dimensions de l'exemple, selon un chemin dans l'arbre de la racine à une des feuilles. La feuille atteinte donne la classe prédite.\n",
    "\n",
    "L'apprentissage de l'arbre s'effectue de manière récursive top-down : à chaque noeud, l'algorithme choisit le split vertical (seuillage\n",
    "d'une variable) qui optimise une mesure d'homogénéité sur la partition obtenue (usuellement l'[entropie de shanon](http://fr.wikipedia.org/wiki/Entropie_de_Shannon#D.C3.A9finition_formelle) ou l'[index de Gini](http://fr.wikipedia.org/wiki/Coefficient_de_Gini) : l'entropie d'une partition est d'autant plus petite qu'une classe prédomine dans chaque sous-\n",
    "ensemble de la partition, elle est nulle lorsque la séparation est parfaite).\n",
    "\n",
    "Bien que l'algorithme pourrait continuer récursivement jusqu'à n'obtenir que des feuilles contenant un ensemble pur d'exemples (d'une seule classe), on utilise souvent des critères d'arrêts (pourquoi ? - nous y reviendrons lors de ce TP). Les plus communs sont les suivants :\n",
    "\n",
    "+ le nombre d'exemples minimum que doit contenir un noeud\n",
    "\n",
    "+ la profondeur maximale de l'arbre\n",
    "\n",
    "+ la différence de gain de la mesure d'homogénéité entre le noeud père et les noeuds fils\n",
    "\n",
    "\n",
    "\n"
   ]
  },
  {
   "cell_type": "markdown",
   "metadata": {},
   "source": [
    "## Prise en main sklearn, données artificielles\n"
   ]
  },
  {
   "cell_type": "code",
   "execution_count": 1,
   "metadata": {
    "collapsed": false
   },
   "outputs": [],
   "source": [
    "import numpy as np # module pour les outils mathématiques\n",
    "import matplotlib.pyplot as plt # module pour les outils graphiques\n",
    "from tools import * # module fourni en TP1\n",
    "from sklearn import tree # module pour les arbres\n",
    "from sklearn import ensemble # module pour les forets\n",
    "from sklearn import linear_model # module pour les forets\n",
    "from sklearn import cross_validation as cv\n",
    "from IPython.display import Image\n",
    "#import pydot\n",
    "\n",
    "%matplotlib inline "
   ]
  },
  {
   "cell_type": "markdown",
   "metadata": {},
   "source": [
    "Tous les modeles d'apprentissage sous scikit fonctionnent de la manière suivante :\n",
    "\n",
    "+ création du classifieur (ici  **cls=Classifier()**)\n",
    "\n",
    "+ réglage des paramètres (par exemple la profondeur maximale, le nombre d'exemples par noeud)\n",
    "\n",
    "+ apprentissage du classifieur par l'intermédiaire de la fonction **cls.fit(data,labels)** \n",
    "\n",
    "+ prediction pour de nouveaux exemples : fonction **cls.predict(data)**\n",
    "\n",
    "+ score du classifieur (précision, pourcentage d'exemples bien classés) : fonction **cls.score(data,labels)**\n",
    "\n",
    "Pour un arbre de décision, la classe est **tree.DecisionTreeClassfier()**.\n",
    "Dans le cas des arbres de décisions, nous avons aussi la possibilité d'obtenir l'importance des variables, un score qui est d'autant plus grand que la variable est \"utile\" pour la classification."
   ]
  },
  {
   "cell_type": "code",
   "execution_count": 2,
   "metadata": {
    "collapsed": false,
    "scrolled": true
   },
   "outputs": [
    {
     "name": "stdout",
     "output_type": "stream",
     "text": [
      "precision :  0\n",
      "precision (score) : 1.0\n",
      "|---------X1<=-0.00\n",
      "|         |---------(-1.0: 500, 1.0: 0)\n",
      "|---------X1>-0.00\n",
      "          |---------(-1.0: 0, 1.0: 500)\n",
      "\n"
     ]
    },
    {
     "data": {
      "image/png": "[encoded data removed]",
      "text/plain": [
       "<matplotlib.figure.Figure at 0x102aa8850>"
      ]
     },
     "metadata": {},
     "output_type": "display_data"
    }
   ],
   "source": [
    "#Initialisation\n",
    "data,y=gen_arti()\n",
    "mytree=tree.DecisionTreeClassifier() #creation d'un arbre de decision\n",
    "mytree.max_depth=3 #profondeur maximale de 8\n",
    "mytree.min_samples_split=1 #nombre minimal d'exemples dans une feuille de 1\n",
    "\n",
    "#Apprentissage\n",
    "mytree.fit(data,y)\n",
    "\n",
    "#prediction\n",
    "pred=mytree.predict(data)\n",
    "print \"precision : \", (1.*pred!=y).sum()/len(y)\n",
    "\n",
    "#ou directement pour la precision : \n",
    "print \"precision (score) : \"  +` mytree.score(data,y)`\n",
    "\n",
    "#Importance des variables :\n",
    "plt.subplot(1,2,2)\n",
    "plt.bar([1,2],mytree.feature_importances_)\n",
    "plt.title(\"Importance Variable\")\n",
    "plt.xticks([1,2],[\"x1\",\"x2\"])\n",
    "\n",
    "#Affichage de l'arbre\n",
    "with file(\"mytree.dot\",\"wb\") as f:\n",
    "    tree.export_graphviz(mytree,f)\n",
    "\n",
    "###### Si graphviz n'est pas installe, la fonction suivante permet d'afficher un arbre\n",
    "def affiche_arbre(tree):\n",
    "    long = 10\n",
    "    sep1=\"|\"+\"-\"*(long-1)\n",
    "    sepl=\"|\"+\" \"*(long-1)\n",
    "    sepr=\" \"*long\n",
    "    def aux(node,sep):\n",
    "        if tree.tree_.children_left[node]<0:\n",
    "            ls =\"(%s)\" % (\", \".join( \"%s: %d\" %(tree.classes_[i],int(x)) for i,x\n",
    " in enumerate(tree.tree_.value[node].flat)))\n",
    "            return sep+sep1+\"%s\\n\" % (ls,)\n",
    "        return (sep+sep1+\"X%d<=%0.2f\\n\"+\"%s\"+sep+sep1+\"X%d>%0.2f\\n\"+\"%s\" )% \\\n",
    "                    (tree.tree_.feature[node],tree.tree_.threshold[node],aux(tree.tree_.children_left[node],sep+sepl),\n",
    "                    tree.tree_.feature[node],tree.tree_.threshold[node],aux(tree.tree_.children_right[node],sep+sepr))\n",
    "    return aux(0,\"\")\n",
    "print(affiche_arbre(mytree))"
   ]
  },
  {
   "cell_type": "markdown",
   "metadata": {},
   "source": []
  },
  {
   "cell_type": "code",
   "execution_count": null,
   "metadata": {
    "collapsed": false,
    "scrolled": true
   },
   "outputs": [],
   "source": [
    "#Initialisation\n",
    "data,y=gen_arti(data_type=0,nbex=1000,epsilon=0.5)\n",
    "mytree=tree.DecisionTreeClassifier() #creation d'un arbre de decision\n",
    "mytree.max_depth=6 #profondeur maximale de 5\n",
    "mytree.min_samples_split=1 #nombre minimal d'exemples dans une feuille\n",
    "#Apprentissage\n",
    "mytree.fit(data,y)\n",
    "\n",
    "#prediction\n",
    "pred=mytree.predict(data)\n",
    "print \"precision : \", (1.*pred!=y).sum()/len(y)\n",
    "\n",
    "#ou directement pour la precision : \n",
    "print \"precision (score) : \"  +` mytree.score(data,y)`\n",
    "\n",
    "#Importance des variables :\n",
    "plt.subplot(1,2,2)\n",
    "plt.bar([1,2],mytree.feature_importances_)\n",
    "plt.title(\"Importance Variable\")\n",
    "plt.xticks([1,2],[\"x1\",\"x2\"])\n",
    "print(affiche_arbre(mytree))"
   ]
  },
  {
   "cell_type": "markdown",
   "metadata": {},
   "source": [
    "### Paramètres pour les données générées artificiellement\n",
    "\n",
    "On constate lorsque l'on fait varier les paramètres (profondeur maximale de l'arbre, minimums de données par feuilles) que la precision ne change que légèrement et que les prédictions sont toujours bonnes. Ces paramètres sont tout de même assez importants. En effet, pour éviter le sur-apprentissage et permettre la généralisation des prédictions, il faut que les noeuds contiennent un nombre minimum d'exemples et qu'il n'y ait pas de noeuds vides. De même, il ne faut pas que l'arbre soit trop profond. Il faut donc ajuster au mieux ces deux paramètres pour obtenir un arbre qui puisse classifier assez precisément (ne pas faire de sous-apprentissage) mais qui est un pouvoir de généralisation performant (donc éviter le sur-apprentissage).\n",
    "\n",
    "On constate qu'avec 1000 données minimales par noeud (soit le nombre de données totales), la precision est de 0.95 alors que le sous-apprentissage est évident. Cette mesure de la precision n'est donc pas très bonne ni réaliste. La précision varie mais très peu. Il en est de même avec la profondeur. En ayant une profondeur de 1, et donc en ayant un fort sous-apprentissage la precision est de 0.96. La valeur de la precision n'est pas donc une mesure fiable de l'erreur.\n",
    "\n",
    "L'arbre optimal (avec la meilleure précision, même si cette dernière n'est pas très fiable) a une profondeur de 6 et un nombre minimum de un exemple par noeud. Avec cette valeur, il faudrait verifier sur des données test pour éviter un sur-apprentissage probable.\n"
   ]
  },
  {
   "cell_type": "code",
   "execution_count": null,
   "metadata": {
    "collapsed": false
   },
   "outputs": [],
   "source": [
    "#On peut même classifier très bien l'echéquier, en augmentant la profondeur \n",
    "data,y=gen_arti(data_type=2,nbex=1000,epsilon=0.5)\n",
    "mytree=tree.DecisionTreeClassifier() #creation d'un arbre de decision\n",
    "mytree.max_depth=16 \n",
    "mytree.min_samples_split=10 #nombre minimal d'exemples dans une feuille\n",
    "#Apprentissage\n",
    "mytree.fit(data,y)\n",
    "\n",
    "#prediction\n",
    "pred=mytree.predict(data)\n",
    "print \"precision : \", (1.*pred!=y).sum()/len(y)\n",
    "\n",
    "#ou directement pour la precision : \n",
    "print \"precision (score) : \"  +` mytree.score(data,y)`\n",
    "\n",
    "#Importance des variables :\n",
    "plt.subplot(1,2,2)\n",
    "plt.bar([1,2],mytree.feature_importances_)\n",
    "plt.title(\"Importance Variable\")\n",
    "plt.xticks([1,2],[\"x1\",\"x2\"])\n",
    "print(affiche_arbre(mytree))"
   ]
  },
  {
   "cell_type": "markdown",
   "metadata": {},
   "source": [
    "## Paramètres pour l'echéquier\n",
    "\n",
    "Dans ce cas, on constate que la precision est plus affectée par les paramètres de l'arbre. En effet, si l'on raccourcit trop l'arbre ou avec un nombre d'exemples par noeud trop important, la precision tombe à 54% soit proche d'un classifieur aléatoire.\n",
    "On obtient une précision de 100% avec une profondeur de 23 et un nombre d'exemples minimales par noeud de 2. Cette situation doit comprendre un fort sur-apprentissage. On peut obtenir un score intéressant en limitant ce sur-apprentissage. En effet, avec une profondeur de 16 et un nombre d'exemples minimum de 10, on obtient un score de 84%.\n",
    "\n",
    "De plus, on peut constater avec cette configuration que la répartition des exemples entre les classes est assez bon. Chaque classe contient à peu près 50% des données d'exemples, la répartition est donc assez juste sachant que dans l'echequier (notre cas) les données sont divisées équitablement en deux. La répartition confirme donc le bon score obtenu.Encore une fois, la prediction (non score) n'est pas influencée par ces paramètres.\n",
    "\n",
    "Nous sommes donc arrivé à bien classer l'echequier, ce qui etait impossible avec un perceptron linéaire, il nous fallait un perceptron avec des projections.\n"
   ]
  },
  {
   "cell_type": "code",
   "execution_count": null,
   "metadata": {
    "collapsed": false
   },
   "outputs": [],
   "source": [
    "#traçons la précision (score) en fonction de la profondeur \n",
    "l = range(1,50)\n",
    "score = []\n",
    "data,y=gen_arti(data_type=2,nbex=1000,epsilon=1)\n",
    "for i in l:\n",
    "    mytree=tree.DecisionTreeClassifier() #creation d'un arbre de decision\n",
    "    mytree.max_depth=i\n",
    "    mytree.min_samples_split=1 #nombre minimal d'exemples dans une feuille\n",
    "    mytree.fit(data,y)\n",
    "    pred=mytree.predict(data)\n",
    "    score.append(mytree.score(data,y))\n",
    "    \n",
    "plt.plot(l,score)\n",
    "plt.title(\"Score en fonction de la profondeur (min_sample = 2, data_type = 2)\")\n",
    "plt.show()"
   ]
  },
  {
   "cell_type": "code",
   "execution_count": null,
   "metadata": {
    "collapsed": false
   },
   "outputs": [],
   "source": [
    "#traçons la précision (score) en fonction du minimum par feuille \n",
    "\n",
    "l = range(1,500)\n",
    "score = []\n",
    "data,y=gen_arti(data_type=2,nbex=1000,epsilon=1)\n",
    "for i in l:\n",
    "    \n",
    "    mytree=tree.DecisionTreeClassifier() #creation d'un arbre de decision\n",
    "    mytree.max_depth=30\n",
    "    mytree.min_samples_split=i #nombre minimal d'exemples dans une feuille\n",
    "    #Apprentissage\n",
    "    mytree.fit(data,y)\n",
    "\n",
    "    #prediction\n",
    "    pred=mytree.predict(data)\n",
    "\n",
    "    score.append(mytree.score(data,y))\n",
    "plt.plot(l,score)\n",
    "plt.title(\"Score en fonction du nombre d'exemples par noeud (max_depth = 30, data_type = 2)\")\n",
    "plt.show()"
   ]
  },
  {
   "cell_type": "markdown",
   "metadata": {},
   "source": [
    "## Influence des Paramètres sur la précision\n",
    "\n",
    "Pour compléter notre étude, nous avons tracé l'influence du nombre d'elements par noeud et de la profondeur sur le score. Nous allons étudier les données prises de l'échéquier dans ce cas.\n",
    "\n",
    "Nous pouvons constater que le score augmente de manière logarithmique selon la profondeur maximale pour atteindre une valeur asymptotique (score de 1) après une profondeur aux alentours de 25. \n",
    "\n",
    "Au contraire le score diminue de manière logarithmique lorsque l'on augmente le nombre d'elements par noeud jusqu'à atteindre une valeur seuil (score de 0.65) aux alentours de 100 données d'entrainement puis diminue plus lentement par seuil. "
   ]
  },
  {
   "cell_type": "markdown",
   "metadata": {},
   "source": [
    "\n",
    "\n",
    "## Validation croisée : sélection de modèle\n",
    "\n",
    "Il est rare de disposer en pratique d'un ensemble de test (on préfère inclure le plus grand\n",
    "nombre de données dans l'ensemble d'apprentissage). Pour sélectionner un modèle tout en considérant le plus grand nombre d'exemples possible pour l'apprentissage, on utilise généralement\n",
    "une procédure dite de sélection par validation croisée. Pour chaque paramètrisation du problème,\n",
    "une estimation de l'erreur empirique du classifieur appris est faîte selon la procédure suivante :\n",
    "\n",
    "+ l'ensemble d'apprentissage $E_{app}$ est partitioné en $n$ ensembles d'apprentissage $\\{E_i\\}$\n",
    "\n",
    "+ Pour $i=1..n$\n",
    "\n",
    "  + l'arbre est appris sur $E_{app}$\\ $E_i$\n",
    "\n",
    "  + l'erreur en test $err(E_i)$ est évaluée sur $E_i$ (qui n'a pas servi à l'apprentissage à cette itération)\n",
    "\n",
    "+ l'erreur moyenne $err=\\frac{1}{n}\\sum_{i=1}^n err(E_i)$ est calculée, le modèle sélectionné est celui qui minimise cette erreur\n",
    "\n",
    "\n",
    "Ci-dessous quelques fonctions utiles pour la sélection de modèle :"
   ]
  },
  {
   "cell_type": "markdown",
   "metadata": {},
   "source": []
  },
  {
   "cell_type": "markdown",
   "metadata": {},
   "source": [
    "### Score Test (Split et 10-Fold)"
   ]
  },
  {
   "cell_type": "code",
   "execution_count": null,
   "metadata": {
    "collapsed": false
   },
   "outputs": [],
   "source": [
    "data,y=gen_arti(data_type=2,nbex=1000,epsilon=0.5)\n",
    "mytree=tree.DecisionTreeClassifier() #creation d'un arbre de decision\n",
    "mytree.max_depth=20 \n",
    "mytree.min_samples_split=2 #nombre minimal d'exemples dans une feuille\n",
    "\n",
    "#permet de partager un ensemble en deux ensembles d'apprentissage et de test \n",
    "data_train,data_test,y_train,y_test=cv.train_test_split(data,y,test_size=0.3)\n",
    "mytree.fit(data_train,y_train)\n",
    "print \"precision en test (split 30 %) : \", mytree.score(data_test,y_test)\n",
    "\n",
    "#permet d'executer une n-validation croisée et d'obtenir le score pour chaque tentative\n",
    "print \"precision en test (10-fold validation) : \",cv.cross_val_score(mytree,data,y,cv=10).mean()\n"
   ]
  },
  {
   "cell_type": "markdown",
   "metadata": {},
   "source": [
    "### Evolution des érreurs d'apprentissage et de test"
   ]
  },
  {
   "cell_type": "markdown",
   "metadata": {},
   "source": [
    "#### Pour la profondeur"
   ]
  },
  {
   "cell_type": "code",
   "execution_count": null,
   "metadata": {
    "collapsed": false
   },
   "outputs": [],
   "source": [
    "#traçons la précision (score) en fonction de la profondeur \n",
    "l = range(1,30)\n",
    "score_test = []\n",
    "score_train = []\n",
    "score_kfold = []\n",
    "data,y=gen_arti(data_type=0,nbex=1000,epsilon=1)\n",
    "data_train,data_test,y_train,y_test=cv.train_test_split(data,y,test_size=0.3)\n",
    "mytree.fit(data_train,y_train)\n",
    "for i in l:\n",
    "    mytree=tree.DecisionTreeClassifier() #creation d'un arbre de decision\n",
    "    mytree.max_depth=i\n",
    "    mytree.min_samples_split=5 #nombre minimal d'exemples dans une feuille 5!!\n",
    "    mytree.fit(data_train,y_train)\n",
    "    score_train.append(mytree.score(data_train,y_train))\n",
    "    score_test.append(mytree.score(data_test,y_test))\n",
    "    score_kfold.append(cv.cross_val_score(mytree,data,y,cv=10).mean())\n",
    "    \n",
    "plt.plot(l,score_train)\n",
    "plt.plot(l, score_test)\n",
    "plt.plot(l, score_kfold)\n",
    "plt.title(\"Score en fonction de la profondeur (min_sample = 1, data_type = 0)\")\n",
    "plt.show()"
   ]
  },
  {
   "cell_type": "code",
   "execution_count": null,
   "metadata": {
    "collapsed": false
   },
   "outputs": [],
   "source": [
    "#traçons la précision (score) en fonction de la profondeur \n",
    "l = range(1,30)\n",
    "score_test = []\n",
    "score_train = []\n",
    "score_kfold = []\n",
    "data,y=gen_arti(data_type=0,nbex=1000,epsilon=1)\n",
    "data_train,data_test,y_train,y_test=cv.train_test_split(data,y,test_size=0.3)\n",
    "for i in l:\n",
    "    mytree=tree.DecisionTreeClassifier() #creation d'un arbre de decision\n",
    "    mytree.max_depth=i\n",
    "    mytree.min_samples_split=30 #nombre minimal d'exemples dans une feuille 20 !!\n",
    "    mytree.fit(data_train,y_train)\n",
    "    score_train.append(mytree.score(data_train,y_train))\n",
    "    score_test.append(mytree.score(data_test,y_test))\n",
    "    score_kfold.append(cv.cross_val_score(mytree,data,y,cv=10).mean())\n",
    "    \n",
    "plt.plot(l,score_train)\n",
    "plt.plot(l, score_test)\n",
    "plt.plot(l, score_kfold)\n",
    "plt.title(\"Score en fonction de la profondeur (min_sample = 30, data_type = 0)\")\n",
    "plt.show()"
   ]
  },
  {
   "cell_type": "markdown",
   "metadata": {},
   "source": [
    "Comme on l'avait dit précedemment, si le nombre d'exemples par noeud est trop faible, il y a un fort sur-apprentissage (cf premier graphique). Plus on augmente le nombre d'exemples par noeud, plus le sur-apprentissage diminue (écart entre le score d'apprentissage et le score de test). Lorsqu'il y a peu de sur-apprentissage, les deux courbes atteignent leur valeur asymptotique au bout d'une profondeur de 10.\n",
    "\n",
    "On constate que les courbes d'erreur test par validation croisée et par 10-fold sont semblables. L'erreur par 10-fold est plus lisse car cette dernière est une moyenne.\n",
    "\n",
    "Dans le cas où le sur-apprentissage est réduit, on se rend compte qu'il y a une valeur maximale du score de test selon la profondeur. En effet, pour une profondeur de 5, le sur apprentissage est assez faible et le score pour les données test est maximal."
   ]
  },
  {
   "cell_type": "markdown",
   "metadata": {},
   "source": [
    "#### Pour le nombre d'exemples par feuille"
   ]
  },
  {
   "cell_type": "code",
   "execution_count": null,
   "metadata": {
    "collapsed": false
   },
   "outputs": [],
   "source": [
    "l = range(1,50)\n",
    "score_test = []\n",
    "score_train = []\n",
    "score_kfold = []\n",
    "data,y=gen_arti(data_type=0,nbex=1000,epsilon=1)\n",
    "data_train,data_test,y_train,y_test=cv.train_test_split(data,y,test_size=0.3)\n",
    "for i in l:\n",
    "    mytree=tree.DecisionTreeClassifier() #creation d'un arbre de decision\n",
    "    mytree.max_depth=20\n",
    "    mytree.min_samples_split=i #nombre minimal d'exemples dans une feuille\n",
    "    mytree.fit(data_train,y_train)\n",
    "    score_train.append(mytree.score(data_train,y_train))\n",
    "    score_test.append(mytree.score(data_test,y_test))\n",
    "    score_kfold.append(cv.cross_val_score(mytree,data,y,cv=10).mean())\n",
    "    \n",
    "plt.plot(l,score_train)\n",
    "plt.plot(l, score_test)\n",
    "plt.plot(l, score_kfold)\n",
    "plt.title(\"Score en fonction du nombre d'exemples par noeud (max_depth = 30, data_type = 0)\")\n",
    "plt.show()"
   ]
  },
  {
   "cell_type": "code",
   "execution_count": null,
   "metadata": {
    "collapsed": false
   },
   "outputs": [],
   "source": [
    "l = range(1,50)\n",
    "score_test = []\n",
    "score_train = []\n",
    "score_kfold = []\n",
    "data,y=gen_arti(data_type=0,nbex=1000,epsilon=1)\n",
    "data_train,data_test,y_train,y_test=cv.train_test_split(data,y,test_size=0.3)\n",
    "for i in l:\n",
    "    mytree=tree.DecisionTreeClassifier() #creation d'un arbre de decision\n",
    "    mytree.max_depth=5\n",
    "    mytree.min_samples_split=i #nombre minimal d'exemples dans une feuille\n",
    "    mytree.fit(data_train,y_train)\n",
    "    score_train.append(mytree.score(data_train,y_train))\n",
    "    score_test.append(mytree.score(data_test,y_test))\n",
    "    score_kfold.append(cv.cross_val_score(mytree,data,y,cv=10).mean())\n",
    "    \n",
    "plt.plot(l,score_train)\n",
    "plt.plot(l, score_test)\n",
    "plt.plot(l, score_kfold)\n",
    "plt.title(\"Score en fonction du nombre d'exemples par noeud (max_depth = 30, data_type = 0)\")\n",
    "plt.show()"
   ]
  },
  {
   "cell_type": "markdown",
   "metadata": {},
   "source": [
    "De manière analogue, ici, on constate que plus le nombre d'exemple par noeud augmente, plus le sur-apprentissage diminue. En effet avec 50 exemples par noeud l'ecart entre score d'apprentissage et test est assez faible et reste tout de même assez performant. \n",
    "\n",
    "On conste entre les deux graphiques, encore, l'importance de la profondeur. Dans le deuxieme cas, on a pris une profondeur de 5 conformément à l'etude sur la profondeur précédente."
   ]
  },
  {
   "cell_type": "markdown",
   "metadata": {},
   "source": [
    "#### Profondeur et jeu de données"
   ]
  },
  {
   "cell_type": "code",
   "execution_count": 44,
   "metadata": {
    "collapsed": false,
    "scrolled": true
   },
   "outputs": [
    {
     "data": {
      "image/png": "[encoded data removed]",
      "text/plain": [
       "<matplotlib.figure.Figure at 0x10ba55150>"
      ]
     },
     "metadata": {},
     "output_type": "display_data"
    },
    {
     "data": {
      "image/png": "[encoded data removed]",
      "text/plain": [
       "<matplotlib.figure.Figure at 0x101285ad0>"
      ]
     },
     "metadata": {},
     "output_type": "display_data"
    },
    {
     "data": {
      "image/png": "[encoded data removed]",
      "text/plain": [
       "<matplotlib.figure.Figure at 0x101285b10>"
      ]
     },
     "metadata": {},
     "output_type": "display_data"
    }
   ],
   "source": [
    "vec2=np.arange(1,11,1) \n",
    "#Graphique de la précision en fonction de la profondeur\n",
    "precision_score=[]\n",
    "\n",
    "data,y=gen_arti(data_type=1,nbex=1500)\n",
    "mytree=tree.DecisionTreeClassifier() #creation d'un arbre de decision\n",
    "for i in vec2:\n",
    "    mytree.max_depth=i #profondeur maximale de 5\n",
    "    mytree.min_samples_split=10 #nombre minimal d'exemples dans une feuille\n",
    "    mytree.fit(data,y)\n",
    "    pred=mytree.predict(data)\n",
    "    precision_score.append(mytree.score(data,y))\n",
    "\n",
    "plt.figure().suptitle('precision en fonction de la profondeur, 4 gaussiennes')\n",
    "plt.plot(vec2,precision_score)\n",
    "plt.ylabel('precision')\n",
    "plt.xlabel('profondeur')\n",
    "plt.show()\n",
    "\n",
    "vec2=np.arange(1,21,1) \n",
    "#Graphique de la précision en fonction de la profondeur\n",
    "precision_score=[]\n",
    "\n",
    "data,y=gen_arti(data_type=2,nbex=1500)\n",
    "mytree=tree.DecisionTreeClassifier() #creation d'un arbre de decision\n",
    "for i in vec2:\n",
    "    mytree.max_depth=i #profondeur maximale de 5\n",
    "    mytree.min_samples_split=10 #nombre minimal d'exemples dans une feuille\n",
    "    mytree.fit(data,y)\n",
    "    pred=mytree.predict(data)\n",
    "    precision_score.append(mytree.score(data,y))\n",
    "\n",
    "plt.figure().suptitle('precision en fonction de la profondeur, echequier')\n",
    "plt.plot(vec2,precision_score)\n",
    "plt.ylabel('precision')\n",
    "plt.xlabel('profondeur')\n",
    "plt.show()\n",
    "\n",
    "vec2=np.arange(1,21,1) \n",
    "#Graphique de la précision en fonction de la profondeur\n",
    "precision_score=[]\n",
    "\n",
    "data,y=gen_arti(data_type=0,nbex=1500,epsilon=1)\n",
    "mytree=tree.DecisionTreeClassifier() #creation d'un arbre de decision\n",
    "for i in vec2:\n",
    "    mytree.max_depth=i #profondeur maximale de 5\n",
    "    mytree.min_samples_split=10 #nombre minimal d'exemples dans une feuille\n",
    "    mytree.fit(data,y)\n",
    "    pred=mytree.predict(data)\n",
    "    precision_score.append(mytree.score(data,y))\n",
    "\n",
    "plt.figure().suptitle('precision en fonction de la profondeur, 2 gaussiennes bruitees')\n",
    "plt.plot(vec2,precision_score)\n",
    "plt.ylabel('precision')\n",
    "plt.xlabel('profondeur')\n",
    "plt.show()"
   ]
  },
  {
   "cell_type": "markdown",
   "metadata": {},
   "source": [
    "La précision augmente toujours avec la profondeur de l'arbre. On constate par contre que cette evolution n'est pas identique selon le jeu de données.\n",
    "Pour les 4 gaussiennes, il y a une valeur seuil de la profondeur pour avoir un score de 1. Cette valeur de seuil est de profondeur 3.\n",
    "Pour l'echequier, l'arbre a besoin d'une profondeur plus importante pour séparer et la croissance de la precision selon la profondeur est quasi linéaire.\n",
    "Pour deux gausiennes, la croissance est séparée en deux sections quasi-linéaire mais avec des pentes différentes, la rupture se fait pour une profondeur de 3."
   ]
  },
  {
   "cell_type": "markdown",
   "metadata": {},
   "source": [
    "## Classification données USPS\n",
    "\n",
    "Tester sur les données USPS (en sélectionnant quelques sous-classes). Observer l'importance des variables. Afficher la matrice 2D de la variable importance de chaque pixel de l'image (avec **plt.imshow(matrix)**). Les résultats semble-t-ils cohérents ? \n",
    "Utiliser l'algorithme du perceptron fourni par sklearn (**linear_model.Perceptron**) ou le votre et comparer les résultats obtenus pour les poids.\n",
    "\n",
    "Sur quelques exemples, comparer les performances des arbres et du Perceptron en utilisant la validation croisée pour calibrer au mieux vos modèles. \n",
    "\n",
    "Expérimenter également les fôrets aléatoires : c'est une méthode de baging très utilisée, qui consiste à considérer un ensemble d'arbres appris chacun sur un échantillonage aléatoire de la base d'exemples; la classification se fait par vote majoritaire (**enemble.RandomForestClassifier()**)."
   ]
  },
  {
   "cell_type": "code",
   "execution_count": 9,
   "metadata": {
    "collapsed": false
   },
   "outputs": [
    {
     "name": "stdout",
     "output_type": "stream",
     "text": [
      "6\n"
     ]
    },
    {
     "data": {
      "image/png": "[encoded data removed]",
      "text/plain": [
       "<matplotlib.figure.Figure at 0x10b35a310>"
      ]
     },
     "metadata": {},
     "output_type": "display_data"
    }
   ],
   "source": [
    "def  load_usps(filename):\n",
    "    with open(filename ,\"r\") as f:\n",
    "        f.readline()\n",
    "        data = [[float(x) for x in l.split()] for l in f if len(l.split())>2]\n",
    "    tmp = np.array(data)\n",
    "    return tmp[:,1:],tmp[:,0].astype(int)\n",
    "datax,y = load_usps(\"usps.txt\")\n",
    "plt.imshow(datax[0].reshape((16,16)),interpolation=\"nearest\")\n",
    "plt.colorbar()\n",
    "print(y[0])"
   ]
  },
  {
   "cell_type": "code",
   "execution_count": 16,
   "metadata": {
    "collapsed": false
   },
   "outputs": [
    {
     "name": "stdout",
     "output_type": "stream",
     "text": [
      "(5103, 256) (2188, 256)\n"
     ]
    }
   ],
   "source": [
    "data_train,data_test,y_train,y_test=cv.train_test_split(datax,y,test_size=0.3)\n",
    "print data_train.shape, data_test.shape"
   ]
  },
  {
   "cell_type": "markdown",
   "metadata": {},
   "source": [
    "#### Calibration du modèle"
   ]
  },
  {
   "cell_type": "code",
   "execution_count": 17,
   "metadata": {
    "collapsed": false
   },
   "outputs": [
    {
     "data": {
      "image/png": "[encoded data removed]",
      "text/plain": [
       "<matplotlib.figure.Figure at 0x114cba0d0>"
      ]
     },
     "metadata": {},
     "output_type": "display_data"
    }
   ],
   "source": [
    "#traçons la précision (score) en fonction de la profondeur \n",
    "l = range(1,30)\n",
    "score_test = []\n",
    "score_train = []\n",
    "#score_kfold = []\n",
    "\n",
    "for i in l:\n",
    "    mytree=tree.DecisionTreeClassifier() #creation d'un arbre de decision\n",
    "    mytree.max_depth=i\n",
    "    mytree.min_samples_split=20 #nombre minimal d'exemples dans une feuille 20 !!\n",
    "    mytree.fit(data_train,y_train)\n",
    "    score_train.append(mytree.score(data_train,y_train))\n",
    "    score_test.append(mytree.score(data_test,y_test))\n",
    "    #score_kfold.append(cv.cross_val_score(mytree,datax,y,cv=10).mean())\n",
    "    \n",
    "plt.plot(l,score_train)\n",
    "plt.plot(l, score_test)\n",
    "#plt.plot(l, score_kfold)\n",
    "plt.title(\"Score en fonction de la profondeur (min_sample = 20, USPS)\")\n",
    "plt.show()"
   ]
  },
  {
   "cell_type": "code",
   "execution_count": 18,
   "metadata": {
    "collapsed": false
   },
   "outputs": [
    {
     "data": {
      "image/png": "[encoded data removed]",
      "text/plain": [
       "<matplotlib.figure.Figure at 0x114d75910>"
      ]
     },
     "metadata": {},
     "output_type": "display_data"
    }
   ],
   "source": [
    "l = range(1,50)\n",
    "score_test = []\n",
    "score_train = []\n",
    "#score_kfold = []\n",
    "for i in l:\n",
    "    mytree=tree.DecisionTreeClassifier() #creation d'un arbre de decision\n",
    "    mytree.max_depth=12\n",
    "    mytree.min_samples_split=i #nombre minimal d'exemples dans une feuille\n",
    "    mytree.fit(data_train,y_train)\n",
    "    score_train.append(mytree.score(data_train,y_train))\n",
    "    score_test.append(mytree.score(data_test,y_test))\n",
    "    #score_kfold.append(cv.cross_val_score(mytree,data,y,cv=10).mean())\n",
    "    \n",
    "plt.plot(l,score_train)\n",
    "plt.plot(l, score_test)\n",
    "#plt.plot(l, score_kfold)\n",
    "plt.title(\"Score en fonction du nombre d'exemples par noeud (max_depth = 12, USPS)\")\n",
    "plt.show()"
   ]
  },
  {
   "cell_type": "markdown",
   "metadata": {},
   "source": [
    "Pour calibrer le modèle, nous n'utilisons que la validation croisée par split car le temps de compilation pour k-fold est assez long. Finalement nous obtenons pour limiter le sur-apprentissage et obtenir le meilleur score :\n",
    "\n",
    "Profondeur : 12\n",
    "\n",
    "Nombre d'exemples par noeud : 20"
   ]
  },
  {
   "cell_type": "markdown",
   "metadata": {},
   "source": [
    "#### Comparaison avec le perceptron"
   ]
  },
  {
   "cell_type": "code",
   "execution_count": 23,
   "metadata": {
    "collapsed": false
   },
   "outputs": [
    {
     "name": "stdout",
     "output_type": "stream",
     "text": [
      "--> Perceptron \n",
      "score train :  0.952968841858\n",
      "score test :  0.928244972578\n",
      "--> Arbre\n",
      "score train :  0.926709778562\n",
      "score test :  0.859689213894\n"
     ]
    }
   ],
   "source": [
    "model = linear_model.Perceptron()\n",
    "model.fit(data_train, y_train)\n",
    "print '--> Perceptron '\n",
    "print 'score train : ', model.score(data_train, y_train)\n",
    "print 'score test : ', model.score(data_test, y_test)\n",
    "\n",
    "mytree=tree.DecisionTreeClassifier() #creation d'un arbre de decision\n",
    "mytree.max_depth=12\n",
    "mytree.min_samples_split=20 \n",
    "mytree.fit(data_train,y_train)\n",
    "print '--> Arbre'\n",
    "print \"score train : \", mytree.score(data_train,y_train)\n",
    "print 'score test : ', mytree.score(data_test, y_test)"
   ]
  },
  {
   "cell_type": "markdown",
   "metadata": {},
   "source": [
    "Le score obtenu par le perceptron linéaire est meilleur que celui pour les abres. En effet le sur-apprentissage est plus faible pour le perceptron et le score général est plus élévé."
   ]
  },
  {
   "cell_type": "markdown",
   "metadata": {},
   "source": [
    "#### One Class vs All (Pour les 6)"
   ]
  },
  {
   "cell_type": "code",
   "execution_count": 38,
   "metadata": {
    "collapsed": false
   },
   "outputs": [
    {
     "name": "stdout",
     "output_type": "stream",
     "text": [
      "score test Perceptron :  0.987202925046\n",
      "score test Arbres :  0.969378427788\n"
     ]
    },
    {
     "name": "stderr",
     "output_type": "stream",
     "text": [
      "/Users/alexandreattia/anaconda/envs/py27/lib/python2.7/site-packages/sklearn/utils/validation.py:515: DataConversionWarning: A column-vector y was passed when a 1d array was expected. Please change the shape of y to (n_samples, ), for example using ravel().\n",
      "  y = column_or_1d(y, warn=True)\n"
     ]
    }
   ],
   "source": [
    "datax,y = load_usps(\"usps.txt\")\n",
    "perc = linear_model.Perceptron()\n",
    "mytree=tree.DecisionTreeClassifier() #creation d'un arbre de decision\n",
    "mytree.max_depth=12\n",
    "mytree.min_samples_split=20 \n",
    "\n",
    "usps_6 = datax[y==6]\n",
    "usps_not6 = datax[y!=6]\n",
    "data_usps=np.vstack((usps_6,usps_not6))\n",
    "\n",
    "label_6= -1*np.ones((len(usps_6),1))\n",
    "label_not6=np.ones((len(usps_not6),1))\n",
    "label=np.vstack((label_6,label_not6))\n",
    "\n",
    "data_train,data_test,label_train,label_test=cv.train_test_split(data_usps,label,test_size=0.3)\n",
    "\n",
    "mytree.fit(data_train,label_train)\n",
    "perc.fit(data_train,label_train)\n",
    "print 'score test Perceptron : ', perc.score(data_test,label_test)\n",
    "print 'score test Arbres : ', mytree.score(data_test,label_test)"
   ]
  },
  {
   "cell_type": "code",
   "execution_count": 37,
   "metadata": {
    "collapsed": false
   },
   "outputs": [
    {
     "data": {
      "text/plain": [
       "<matplotlib.colorbar.Colorbar at 0x10f7cf7d0>"
      ]
     },
     "execution_count": 37,
     "metadata": {},
     "output_type": "execute_result"
    },
    {
     "data": {
      "image/png": "[encoded data removed]",
      "text/plain": [
       "<matplotlib.figure.Figure at 0x10f761450>"
      ]
     },
     "metadata": {},
     "output_type": "display_data"
    }
   ],
   "source": [
    "plt.imshow(perc.coef_.reshape((16,16)),interpolation=\"nearest\")\n",
    "plt.colorbar()"
   ]
  },
  {
   "cell_type": "markdown",
   "metadata": {},
   "source": [
    "#### Random Forest"
   ]
  },
  {
   "cell_type": "code",
   "execution_count": 39,
   "metadata": {
    "collapsed": false
   },
   "outputs": [
    {
     "name": "stdout",
     "output_type": "stream",
     "text": [
      "--> Perceptron \n",
      "score train :  0.950421320792\n",
      "score test :  0.929616087751\n",
      "--> Arbre\n",
      "score train :  0.937095825985\n",
      "score test :  0.863345521024\n",
      "--> Random Forest\n",
      "score train :  0.998432294729\n",
      "score test :  0.946069469835\n"
     ]
    }
   ],
   "source": [
    "datax,y = load_usps(\"usps.txt\")\n",
    "data_train,data_test,y_train,y_test=cv.train_test_split(datax,y,test_size=0.3)\n",
    "\n",
    "model = linear_model.Perceptron()\n",
    "model.fit(data_train, y_train)\n",
    "print '--> Perceptron '\n",
    "print 'score train : ', model.score(data_train, y_train)\n",
    "print 'score test : ', model.score(data_test, y_test)\n",
    "\n",
    "mytree=tree.DecisionTreeClassifier() #creation d'un arbre de decision\n",
    "mytree.max_depth=12\n",
    "mytree.min_samples_split=20 \n",
    "mytree.fit(data_train,y_train)\n",
    "print '--> Arbre'\n",
    "print \"score train : \", mytree.score(data_train,y_train)\n",
    "print 'score test : ', mytree.score(data_test, y_test)\n",
    "\n",
    "rf=ensemble.RandomForestClassifier() #creation d'un arbre de decision\n",
    "rf.fit(data_train,y_train)\n",
    "print '--> Random Forest'\n",
    "print \"score train : \", rf.score(data_train,y_train)\n",
    "print 'score test : ', rf.score(data_test, y_test)"
   ]
  },
  {
   "cell_type": "markdown",
   "metadata": {},
   "source": [
    "Le bagging est méthode dans laquelle nn crée S ensembles de données de \"même taille que l'original\" créés à partir de rééchantillonnages aléatoire du jeu de données T avec des remplacements (n fois pour chaque ensemble de données). Cela se traduira par {T1, T2, ... TS} ensembles de données. \n",
    "\n",
    "Pour Random Forest, cela consiste à considérer un ensemble d'arbres appris chacun sur un échantillonage aléatoire de la base d'exemples. La classification se fait par vote majoritaire. L'algorithme des forêts d'arbres décisionnels effectue un apprentissage sur de multiples arbres de décision entraînés sur des sous-ensembles de données légèrement différents.\n",
    "\n",
    "On obtient donc logiquement un meilleur score que pour un arbre classique et on peut constater que l'on obtient également un meilleure score que pour le perceptron linéaire.\n"
   ]
  },
  {
   "cell_type": "markdown",
   "metadata": {},
   "source": [
    "## Classification sur la base movielens \n",
    "\n",
    "La base movielens est une base de données issue d'imdb, qui contient des informations sur des films (le genre, l'année de production, des tags) et des notes attribuées par les utilisateurs. Elle est utilisée généralement pour la recommendation de films. Nous allons l'utiliser dans le cadre de la classification, afin de prédire si un film est bon ou mauvais, dans deux contextes :\n",
    "\n",
    "+ en prenant en compte uniquement l'information sur le film et le score moyen du film\n",
    "\n",
    "+ en prenant en compte l'information de l'utilisateur qui score le film\n",
    "\n",
    "Télécharger l'[archive suivante](http://www-connex.lip6.fr/~baskiotisn/ARF15/imdb_extrait.pkl)\n",
    "\n",
    "Le bloc de code suivant est utilisé pour  charger et prétraiter les données."
   ]
  },
  {
   "cell_type": "code",
   "execution_count": 69,
   "metadata": {
    "collapsed": false
   },
   "outputs": [],
   "source": [
    "import cPickle\n",
    "[data,id2titles, fields]=cPickle.load(file(\"imdb_extrait.pkl\"))\n",
    "datax = data[:,:32]\n",
    "datay= np.array([1 if x[33]>6.5 else -1 for x in data]) # seuil de bon film a 6.5"
   ]
  },
  {
   "cell_type": "code",
   "execution_count": 106,
   "metadata": {
    "collapsed": false
   },
   "outputs": [
    {
     "name": "stdout",
     "output_type": "stream",
     "text": [
      "La taille de l'ensemble est :  (4587, 32)\n"
     ]
    }
   ],
   "source": [
    "print 'La taille de l\\'ensemble est : ', datax.shape "
   ]
  },
  {
   "cell_type": "markdown",
   "metadata": {},
   "source": [
    "Les informations suivantes sont stockées :\n",
    "\n",
    "+ fields : liste des champs utilisés (28 genres, durée, couleur ou noir/blanc, année, budget,nombre de votes et rating)\n",
    "\n",
    "+ data : une matrice, chaque ligne un film, chaque colonne un champs, 1 indique le genre s'applique au film, 0 non.\n",
    "\n",
    "+ id2titles : pour chaque index de film, le titre du film\n",
    "\n",
    "### Classification à partir de l'information unique du film\n",
    "+ *<font style=\"BACKGROUND-COLOR: lightgray\" color='red'> Expérimenter les arbres de décisions et le perceptron pour cette tâche. L'ordre de grandeur de chaque dimension joue-t-il un role ? sur quelles dimensions cela peut poser problème ? </font>*\n",
    "\n",
    "+ *<font style=\"BACKGROUND-COLOR: lightgray\" color='red'> Sur quelques paramètres, que remarquez vous sur l'erreur d'apprentissage et de test ?</font>*\n",
    "\n",
    "+ *<font style=\"BACKGROUND-COLOR: lightgray\" color='red'> La taille de l'ensemble de test joue-t-elle un rôle ?</font>*\n",
    "\n",
    "+ *<font style=\"BACKGROUND-COLOR: lightgray\" color='red'> Tracer les courbes de ces deux erreurs en fonction de la profondeur. Que remarquez vous ? Quels sont les meilleurs paramètres pour l'erreur en apprentissage et en test ?</font>*\n",
    "\n",
    "+ *<font style=\"BACKGROUND-COLOR: lightgray\" color='red'> Quelles sont les variables les plus importantes ?  </font>*\n"
   ]
  },
  {
   "cell_type": "code",
   "execution_count": 103,
   "metadata": {
    "collapsed": false
   },
   "outputs": [
    {
     "name": "stdout",
     "output_type": "stream",
     "text": [
      "--> Perceptron \n",
      "score train :  0.433956386293\n",
      "score test :  0.429920116195\n",
      "--> Arbre\n",
      "score train :  0.751401869159\n",
      "score test :  0.731299927378\n"
     ]
    }
   ],
   "source": [
    "data_train,data_test,y_train,y_test=cv.train_test_split(datax,datay,test_size=0.3)\n",
    "model = linear_model.Perceptron()\n",
    "model.fit(data_train, y_train)\n",
    "print '--> Perceptron '\n",
    "print 'score train : ', model.score(data_train, y_train)\n",
    "print 'score test : ', model.score(data_test, y_test)\n",
    "\n",
    "mytree=tree.DecisionTreeClassifier() #creation d'un arbre de decision\n",
    "mytree.max_depth=5\n",
    "mytree.min_samples_split=30 \n",
    "mytree.fit(data_train,y_train)\n",
    "print '--> Arbre'\n",
    "print \"score train : \", mytree.score(data_train,y_train)\n",
    "print 'score test : ', mytree.score(data_test, y_test)"
   ]
  },
  {
   "cell_type": "code",
   "execution_count": 94,
   "metadata": {
    "collapsed": false
   },
   "outputs": [
    {
     "name": "stdout",
     "output_type": "stream",
     "text": [
      "--> Les 5 paramètres les plus importants sont : \n",
      "['Duree', 'budget', 'annee', 'Drama', 'Animation']\n"
     ]
    }
   ],
   "source": [
    "print '--> Les 5 paramètres les plus importants sont : '\n",
    "index=mytree.feature_importances_.argsort()[::-1][:5]\n",
    "print [fields[x] for x in index]"
   ]
  },
  {
   "cell_type": "markdown",
   "metadata": {},
   "source": [
    "#### Erreurs selon la profondeur"
   ]
  },
  {
   "cell_type": "code",
   "execution_count": 105,
   "metadata": {
    "collapsed": false
   },
   "outputs": [
    {
     "data": {
      "image/png": "[encoded data removed]",
      "text/plain": [
       "<matplotlib.figure.Figure at 0x114ecec90>"
      ]
     },
     "metadata": {},
     "output_type": "display_data"
    }
   ],
   "source": [
    "l = range(1,30)\n",
    "score_test = []\n",
    "score_train = []\n",
    "#score_kfold = []\n",
    "\n",
    "for i in l:\n",
    "    mytree=tree.DecisionTreeClassifier() #creation d'un arbre de decision\n",
    "    mytree.max_depth=i\n",
    "    mytree.min_samples_split=30 #nombre minimal d'exemples dans une feuille 20 !!\n",
    "    mytree.fit(data_train,y_train)\n",
    "    score_train.append(mytree.score(data_train,y_train))\n",
    "    score_test.append(mytree.score(data_test,y_test))\n",
    "    #score_kfold.append(cv.cross_val_score(mytree,datax,y,cv=10).mean())\n",
    "    \n",
    "plt.plot(l,score_train)\n",
    "plt.plot(l, score_test)\n",
    "#plt.plot(l, score_kfold)\n",
    "plt.title(\"Score en fonction de la profondeur (min_sample = 20, IMDB)\")\n",
    "plt.show()"
   ]
  },
  {
   "cell_type": "markdown",
   "metadata": {},
   "source": [
    "La valeur optimale de la profondeur est de 5 avec un nombre d'exemples par noeuf de 20"
   ]
  },
  {
   "cell_type": "code",
   "execution_count": null,
   "metadata": {
    "collapsed": true
   },
   "outputs": [],
   "source": []
  }
 ],
 "metadata": {
  "kernelspec": {
   "display_name": "Python 2",
   "language": "python",
   "name": "python2"
  },
  "language_info": {
   "codemirror_mode": {
    "name": "ipython",
    "version": 2
   },
   "file_extension": ".py",
   "mimetype": "text/x-python",
   "name": "python",
   "nbconvert_exporter": "python",
   "pygments_lexer": "ipython2",
   "version": "2.7.11"
  }
 },
 "nbformat": 4,
 "nbformat_minor": 0
}
