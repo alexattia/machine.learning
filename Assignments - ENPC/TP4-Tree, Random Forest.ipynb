{
 "cells": [
  {
   "cell_type": "markdown",
   "metadata": {},
   "source": [
    "# TP : Arbres de décision et fôrets aléatoires\n",
    "\n",
    "\n",
    "## Résumé\n",
    "\n",
    "Un arbre de décision est un modèle de classification hiérarchique : à chaque noeud de l'arbre\n",
    "est associé un test sur une des dimensions $x_i$ de la forme $x_i \\{\\leq,~ >,~ = \\} s$ ($s$ une valeur réelle) qui indique le noeud fils qui doit être sélectionné (par exemple pour un arbre binaire, le fils gauche quand le test est vrai, le fils droit sinon). A chaque feuille de l'arbre est associée une étiquette. Ainsi, la classification d'un exemple consiste en une succession de tests sur les valeurs des dimensions de l'exemple, selon un chemin dans l'arbre de la racine à une des feuilles. La feuille atteinte donne la classe prédite.\n",
    "\n",
    "L'apprentissage de l'arbre s'effectue de manière récursive top-down : à chaque noeud, l'algorithme choisit le split vertical (seuillage\n",
    "d'une variable) qui optimise une mesure d'homogénéité sur la partition obtenue (usuellement l'[entropie de shanon](http://fr.wikipedia.org/wiki/Entropie_de_Shannon#D.C3.A9finition_formelle) ou l'[index de Gini](http://fr.wikipedia.org/wiki/Coefficient_de_Gini) : l'entropie d'une partition est d'autant plus petite qu'une classe prédomine dans chaque sous-\n",
    "ensemble de la partition, elle est nulle lorsque la séparation est parfaite).\n",
    "\n",
    "Bien que l'algorithme pourrait continuer récursivement jusqu'à n'obtenir que des feuilles contenant un ensemble pur d'exemples (d'une seule classe), on utilise souvent des critères d'arrêts (pourquoi ? - nous y reviendrons lors de ce TP). Les plus communs sont les suivants :\n",
    "\n",
    "+ le nombre d'exemples minimum que doit contenir un noeud\n",
    "\n",
    "+ la profondeur maximale de l'arbre\n",
    "\n",
    "+ la différence de gain de la mesure d'homogénéité entre le noeud père et les noeuds fils\n",
    "\n",
    "\n",
    "\n"
   ]
  },
  {
   "cell_type": "markdown",
   "metadata": {},
   "source": [
    "## Prise en main sklearn, données artificielles\n",
    "scikit-learn est un des modules de machine learning les plus populaires (installation : pip install scikit-learn --user).\n",
    "Il contient les algos que nous avons déjà vu (knn, noyaux, perceptron, regression), et bien d'autres outils et algorithmes."
   ]
  },
  {
   "cell_type": "code",
   "execution_count": 2,
   "metadata": {
    "collapsed": false
   },
   "outputs": [],
   "source": [
    "#que pour jupyter  !!\n",
    "%matplotlib inline \n",
    "import numpy as np # module pour les outils mathématiques\n",
    "import matplotlib.pyplot as plt # module pour les outils graphiques\n",
    "import tools # module fourni en TP1\n",
    "from sklearn import tree # module pour les arbres\n",
    "from sklearn import ensemble # module pour les forets\n",
    "from sklearn import cross_validation as cv\n",
    "from IPython.display import Image\n",
    "import pydot\n",
    "\n",
    "#que pour jupyter  !!\n",
    "%matplotlib inline "
   ]
  },
  {
   "cell_type": "markdown",
   "metadata": {},
   "source": [
    "Tous les modeles d'apprentissage sous scikit fonctionnent de la manière suivante :\n",
    "\n",
    "+ création du classifieur (ici  **cls=Classifier()**)\n",
    "\n",
    "+ réglage des paramètres (par exemple la profondeur maximale, le nombre d'exemples par noeud)\n",
    "\n",
    "+ apprentissage du classifieur par l'intermédiaire de la fonction **cls.fit(data,labels)** \n",
    "\n",
    "+ prediction pour de nouveaux exemples : fonction **cls.predict(data)**\n",
    "\n",
    "+ score du classifieur (précision, pourcentage d'exemples bien classés) : fonction **cls.score(data,labels)**\n",
    "\n",
    "Pour un arbre de décision, la classe est **tree.DecisionTreeClassfier()**.\n",
    "Dans le cas des arbres de décisions, nous avons aussi la possibilité d'obtenir l'importance des variables, un score qui est d'autant plus grand que la variable est \"utile\" pour la classification."
   ]
  },
  {
   "cell_type": "code",
   "execution_count": 10,
   "metadata": {
    "collapsed": true
   },
   "outputs": [],
   "source": [
    "def gen_arti(centerx=1,centery=1,sigma=0.1,nbex=1000,data_type=0,eps=0.02):\n",
    "    \"\"\" Generateur de donnees,\n",
    "        :param centerx: centre des gaussiennes\n",
    "        :param centery:\n",
    "        :param sigma: des gaussiennes\n",
    "        :param nbex: nombre d'exemples\n",
    "        :param data_type: 0: melange 2 gaussiennes, 1: melange 4 gaussiennes, 2:echequier\n",
    "        :param eps: bruit dans les donnees\n",
    "        :return: data matrice 2d des donnnes,y etiquette des donnnees\n",
    "    \"\"\"\n",
    "    if data_type==0:\n",
    "        #melange de 2 gaussiennes\n",
    "        xpos=np.random.multivariate_normal([centerx,centerx],np.diag([sigma,sigma]),int(nbex/2))\n",
    "        xneg=np.random.multivariate_normal([-centerx,-centerx],np.diag([sigma,sigma]),int(nbex/2))\n",
    "        data=np.vstack((xpos,xneg))\n",
    "        y=np.hstack((np.ones(int(nbex/2)),-np.ones(int(nbex/2))))\n",
    "    if data_type==1:\n",
    "        #melange de 4 gaussiennes\n",
    "        xpos=np.vstack((np.random.multivariate_normal([centerx,centerx],np.diag([sigma,sigma]),int(nbex/4)),np.random.multivariate_normal([-centerx,-centerx],np.diag([sigma,sigma]),int(nbex/4))))\n",
    "        xneg=np.vstack((np.random.multivariate_normal([-centerx,centerx],np.diag([sigma,sigma]),int(nbex/4)),np.random.multivariate_normal([centerx,-centerx],np.diag([sigma,sigma]),int(nbex/4))))     \n",
    "        data=np.vstack((xpos,xneg))\n",
    "        y=np.hstack((np.ones(int(nbex/2)),-np.ones(int(nbex/2))))\n",
    "\n",
    "    if data_type==2:\n",
    "        #echiquier\n",
    "        data=np.reshape(np.random.uniform(-4,4,2*nbex),(nbex,2))\n",
    "        y=np.ceil(data[:,0])+np.ceil(data[:,1])\n",
    "        y=2*(y % 2)-1\n",
    "    # un peu de bruit\n",
    "    data[:,0]+=np.random.normal(0,eps,nbex)\n",
    "    data[:,1]+=np.random.normal(0,eps,nbex)\n",
    "    # on mélange les données\n",
    "    idx = np.random.permutation((range(y.size)))\n",
    "    data=data[idx,:]\n",
    "    y=y[idx]\n",
    "    return data,y\n",
    "\n",
    "def plot_data(data,labels=None):\n",
    "    \"\"\"\n",
    "    Affiche des donnees 2D\n",
    "    :param data: matrice des donnees 2d\n",
    "    :param labels: vecteur des labels (discrets)\n",
    "    :return:\n",
    "    \"\"\"\n",
    "    cols,marks = [\"red\", \"green\", \"blue\", \"orange\", \"black\", \"cyan\"],[\".\",\"+\",\"*\",\"o\",\"x\",\"^\"]\n",
    "    if labels is None:\n",
    "        plt.scatter(data[:,0],data[:,1],marker=\"x\")\n",
    "        return\n",
    "    for i,l in enumerate(sorted(list(set(labels.flatten())))):\n",
    "        plt.scatter(data[labels==l,0],data[labels==l,1],c=cols[i],marker=marks[i])\n",
    "\n",
    "\n",
    "\n",
    "def make_grid(data=None,xmin=-5,xmax=5,ymin=-5,ymax=5,step=20):\n",
    "    \"\"\" Cree une grille sous forme de matrice 2d de la liste des points\n",
    "    :param data: pour calcluler les bornes du graphe\n",
    "    :param xmin: si pas data, alors bornes du graphe\n",
    "    :param xmax:\n",
    "    :param ymin:\n",
    "    :param ymax:\n",
    "    :param step: pas de la grille\n",
    "    :return: une matrice 2d contenant les points de la grille\n",
    "    \"\"\"\n",
    "    if data is not None:\n",
    "        xmax, xmin, ymax, ymin = np.max(data[:,0]),  np.min(data[:,0]), np.max(data[:,1]), np.min(data[:,1])\n",
    "    x, y =np.meshgrid(np.arange(xmin,xmax,(xmax-xmin)*1./step), np.arange(ymin,ymax,(ymax-ymin)*1./step))\n",
    "    grid=np.c_[x.ravel(),y.ravel()]\n",
    "    return grid, x, y\n",
    "\n",
    "\n",
    "def plot_frontiere(data,f,step=20):\n",
    "    \"\"\" Trace un graphe de la frontiere de decision de f\n",
    "    :param data: donnees\n",
    "    :param f: fonction de decision\n",
    "    :param step: pas de la grille\n",
    "    :return:\n",
    "    \"\"\"\n",
    "    grid,x,y=make_grid(data=data,step=step)\n",
    "    plt.contourf(x,y,f(grid).reshape(x.shape),colors=('gray','blue'),levels=[-1,0,1])\n"
   ]
  },
  {
   "cell_type": "code",
   "execution_count": 16,
   "metadata": {
    "collapsed": false
   },
   "outputs": [
    {
     "name": "stdout",
     "output_type": "stream",
     "text": [
      "precision :  0.0\n",
      "precision (score) :  1.0\n",
      "|---------X0<=-0.12\n",
      "|         |---------(-1.0: 500, 1.0: 0)\n",
      "|---------X0>-0.12\n",
      "          |---------(-1.0: 0, 1.0: 500)\n",
      "\n"
     ]
    },
    {
     "data": {
      "image/png": "[encoded data removed]",
      "text/plain": [
       "<matplotlib.figure.Figure at 0x1119616a0>"
      ]
     },
     "metadata": {},
     "output_type": "display_data"
    }
   ],
   "source": [
    "#Initialisation\n",
    "data,y=gen_arti(data_type=0 ,nbex=1000)\n",
    "mytree=tree.DecisionTreeClassifier() #creation d'un arbre de decision\n",
    "mytree.max_depth=2 #profondeur maximale de 5\n",
    "mytree.min_samples_split=1 #nombre minimal d'exemples dans une feuille\n",
    "#Apprentissage\n",
    "mytree.fit(data,y)\n",
    "\n",
    "#prediction\n",
    "pred=mytree.predict(data)\n",
    "print (\"precision : \", (1.*pred!=y).sum()/len(y))\n",
    "\n",
    "#ou directement pour la precision : \n",
    "print (\"precision (score) : \",mytree.score(data,y))\n",
    "\n",
    "#Importance des variables :\n",
    "plt.subplot(1,2,2)\n",
    "plt.bar([1,2],mytree.feature_importances_)\n",
    "plt.title(\"Importance Variable\")\n",
    "plt.xticks([1,2],[\"x1\",\"x2\"])\n",
    "\n",
    "#Affichage de l'arbre\n",
    "with open(\"mytree.dot\",\"w\") as f:\n",
    "    tree.export_graphviz(mytree,f)\n",
    "\n",
    "###### Si graphviz n'est pas installe, la fonction suivante permet d'afficher un arbre\n",
    "def affiche_arbre(tree):\n",
    "    long = 10\n",
    "    sep1=\"|\"+\"-\"*(long-1)\n",
    "    sepl=\"|\"+\" \"*(long-1)\n",
    "    sepr=\" \"*long\n",
    "    def aux(node,sep):\n",
    "        if tree.tree_.children_left[node]<0:\n",
    "            ls =\"(%s)\" % (\", \".join( \"%s: %d\" %(tree.classes_[i],int(x)) for i,x\n",
    " in enumerate(tree.tree_.value[node].flat)))\n",
    "            return sep+sep1+\"%s\\n\" % (ls,)\n",
    "        return (sep+sep1+\"X%d<=%0.2f\\n\"+\"%s\"+sep+sep1+\"X%d>%0.2f\\n\"+\"%s\" )% \\\n",
    "                    (tree.tree_.feature[node],tree.tree_.threshold[node],aux(tree.tree_.children_left[node],sep+sepl),\n",
    "                    tree.tree_.feature[node],tree.tree_.threshold[node],aux(tree.tree_.children_right[node],sep+sepr))\n",
    "    return aux(0,\"\")\n",
    "print(affiche_arbre(mytree))\n",
    "\n",
    "##On créé un fichier .dot\n",
    "## Commande sur le shell\n",
    "## dot -Tpdf mytree.dot -o mytree.pdf"
   ]
  },
  {
   "cell_type": "markdown",
   "metadata": {},
   "source": [
    "Sur différents jeux de données artificielles (des tps précédents) : \n",
    "\n",
    "+ *<font style=\"BACKGROUND-COLOR: lightgray\" color='red'>observer les frontières de décision en fonction de la taille de l'arbe.</font>*\n",
    "\n",
    "+ *<font style=\"BACKGROUND-COLOR: lightgray\" color='red'>faites varier les différents paramètres disponibles (hauteur de l'arbre, nombre d'exemples dans les noeuds par exemple) et tracer la précision en fonction de ces paramètres.\n",
    "Que remarquez vous sur la précision ?</font>*\n",
    "\n",
    "+ *<font style=\"BACKGROUND-COLOR: lightgray\" color='red'>Est-ce que cette valeur de précision vous semble une estimation fiable de l'erreur ? Pourquoi ?</font>*\n"
   ]
  },
  {
   "cell_type": "code",
   "execution_count": 85,
   "metadata": {
    "collapsed": false
   },
   "outputs": [
    {
     "data": {
      "image/png": "[encoded data removed]",
      "text/plain": [
       "<matplotlib.figure.Figure at 0x111793c50>"
      ]
     },
     "metadata": {},
     "output_type": "display_data"
    },
    {
     "data": {
      "image/png": "[encoded data removed]",
      "text/plain": [
       "<matplotlib.figure.Figure at 0x10e84d438>"
      ]
     },
     "metadata": {},
     "output_type": "display_data"
    },
    {
     "data": {
      "image/png": "[encoded data removed]",
      "text/plain": [
       "<matplotlib.figure.Figure at 0x10b539ac8>"
      ]
     },
     "metadata": {},
     "output_type": "display_data"
    }
   ],
   "source": [
    "vec2=np.arange(1,11,1) \n",
    "#Graphique de la précision en fonction de la profondeur\n",
    "precision_score=[]\n",
    "\n",
    "data,y=gen_arti(data_type=1,nbex=15000)\n",
    "mytree=tree.DecisionTreeClassifier() #creation d'un arbre de decision\n",
    "for i in vec2:\n",
    "    mytree.max_depth=i #profondeur maximale de 5\n",
    "    mytree.min_samples_split=1 #nombre minimal d'exemples dans une feuille\n",
    "    mytree.fit(data,y)\n",
    "    pred=mytree.predict(data)\n",
    "    precision_score.append(mytree.score(data,y))\n",
    "\n",
    "plt.figure().suptitle('precision en fonction de la profondeur, 4 gaussiennes')\n",
    "plt.plot(vec2,precision_score)\n",
    "plt.ylabel('précision')\n",
    "plt.xlabel('profondeur')\n",
    "plt.show()\n",
    "\n",
    "vec2=np.arange(1,21,1) \n",
    "#Graphique de la précision en fonction de la profondeur\n",
    "precision_score=[]\n",
    "\n",
    "data,y=gen_arti(data_type=2,nbex=15000)\n",
    "mytree=tree.DecisionTreeClassifier() #creation d'un arbre de decision\n",
    "for i in vec2:\n",
    "    mytree.max_depth=i #profondeur maximale de 5\n",
    "    mytree.min_samples_split=1 #nombre minimal d'exemples dans une feuille\n",
    "    mytree.fit(data,y)\n",
    "    pred=mytree.predict(data)\n",
    "    precision_score.append(mytree.score(data,y))\n",
    "\n",
    "plt.figure().suptitle('precision en fonction de la profondeur, echequier')\n",
    "plt.plot(vec2,precision_score)\n",
    "plt.ylabel('précision')\n",
    "plt.xlabel('profondeur')\n",
    "plt.show()\n",
    "\n",
    "vec2=np.arange(1,21,1) \n",
    "#Graphique de la précision en fonction de la profondeur\n",
    "precision_score=[]\n",
    "\n",
    "data,y=gen_arti(data_type=0,nbex=15000,eps=1)\n",
    "mytree=tree.DecisionTreeClassifier() #creation d'un arbre de decision\n",
    "for i in vec2:\n",
    "    mytree.max_depth=i #profondeur maximale de 5\n",
    "    mytree.min_samples_split=1 #nombre minimal d'exemples dans une feuille\n",
    "    mytree.fit(data,y)\n",
    "    pred=mytree.predict(data)\n",
    "    precision_score.append(mytree.score(data,y))\n",
    "\n",
    "plt.figure().suptitle('precision en fonction de la profondeur, 2 gaussiennes bruitées')\n",
    "plt.plot(vec2,precision_score)\n",
    "plt.ylabel('précision')\n",
    "plt.xlabel('profondeur')\n",
    "plt.show()"
   ]
  },
  {
   "cell_type": "markdown",
   "metadata": {},
   "source": [
    "La précision augmente toujours avec la profondeur de l'arbre. On constate par contre que cette evolution n'est pas identique selon le jeu de données.\n",
    "Pour les 4 gaussiennes, il y a une valeur seuil de la profondeur pour avoir un score de 1. Cette valeur de seuil est de profondeur 3.\n",
    "Pour l'echequier, l'arbre a besoin d'une profondeur plus importante pour séparer et la croissance de la precision selon la profondeur est quasi linéaire.\n",
    "Pour deux gausiennes, la croissance est séparée en deux sections quasi-linéaire mais avec des pentes différentes, la rupture se fait pour une profondeur de 3."
   ]
  },
  {
   "cell_type": "code",
   "execution_count": 83,
   "metadata": {
    "collapsed": false
   },
   "outputs": [
    {
     "data": {
      "image/png": "[encoded data removed]",
      "text/plain": [
       "<matplotlib.figure.Figure at 0x1136f9358>"
      ]
     },
     "metadata": {},
     "output_type": "display_data"
    }
   ],
   "source": [
    "#Graphique de la précision en fonction du nombre minimal d'exemples dans une feuille\n",
    "vec2=np.arange(1,101,1) \n",
    "precision_score=[]\n",
    "\n",
    "data,y=gen_arti(data_type=1,nbex=15000)\n",
    "mytree=tree.DecisionTreeClassifier() #creation d'un arbre de decision\n",
    "mytree.max_depth=5 #profondeur maximale de 5\n",
    "for i in vec2:\n",
    "    mytree.min_samples_split=i #nombre minimal d'exemples dans une feuille\n",
    "    mytree.fit(data,y)\n",
    "    pred=mytree.predict(data)\n",
    "    precision_score.append(mytree.score(data,y))\n",
    "\n",
    "plt.figure().suptitle('precision en fonction du nombre minimal d exemples dans une feuille')\n",
    "plt.plot(vec2,precision_score)\n",
    "plt.ylabel('précision')\n",
    "plt.xlabel('profondeur')\n",
    "plt.show()"
   ]
  },
  {
   "cell_type": "markdown",
   "metadata": {},
   "source": [
    "\n",
    "## Validation croisée : sélection de modèle\n",
    "\n",
    "Il est rare de disposer en pratique d'un ensemble de test (on préfère inclure le plus grand\n",
    "nombre de données dans l'ensemble d'apprentissage). Pour sélectionner un modèle tout en considérant le plus grand nombre d'exemples possible pour l'apprentissage, on utilise généralement\n",
    "une procédure dite de sélection par validation croisée. Pour chaque paramètrisation du problème,\n",
    "une estimation de l'erreur empirique du classifieur appris est faîte selon la procédure suivante :\n",
    "\n",
    "+ l'ensemble d'apprentissage $E_{app}$ est partitioné en $n$ ensembles d'apprentissage $\\{E_i\\}$\n",
    "\n",
    "+ Pour $i=1..n$\n",
    "\n",
    "  + l'arbre est appris sur $E_{app}$\\ $E_i$\n",
    "\n",
    "  + l'erreur en test $err(E_i)$ est évaluée sur $E_i$ (qui n'a pas servi à l'apprentissage à cette itération)\n",
    "\n",
    "+ l'erreur moyenne $err=\\frac{1}{n}\\sum_{i=1}^n err(E_i)$ est calculée, le modèle sélectionné est celui qui minimise cette erreur\n",
    "\n",
    "\n",
    "Ci-dessous quelques fonctions utiles pour la sélection de modèle :"
   ]
  },
  {
   "cell_type": "code",
   "execution_count": null,
   "metadata": {
    "collapsed": false
   },
   "outputs": [],
   "source": [
    "#permet de partager un ensemble en deux ensembles d'apprentissage et de test \n",
    "data_train,data_test,y_train,y_test=cv.train_test_split(data,y,test_size=0.3)\n",
    "mytree.fit(data_train,y_train)\n",
    "print \"precision en test (split 30 %) : \", mytree.score(data_test,y_test)\n",
    "\n",
    "#permet d'executer une n-validation croisée et d'obtenir le score pour chaque tentative\n",
    "print \"precision en test (10-fold validation) : \",cv.cross_val_score(mytree,data,y,cv=10)\n",
    "\n",
    "#alternative : obtenir les indices et itérer dessus  \n",
    "kf= cv.KFold(y.size,n_folds=10)\n",
    "res_train=[]\n",
    "res_test=[]\n",
    "for cvtrain,cvtest in kf:\n",
    "    mytree.fit(data[cvtrain],y[cvtrain])\n",
    "    res_train+=[mytree.score(data[cvtrain],y[cvtrain])]\n",
    "    res_test+=[mytree.score(data[cvtest],y[cvtest])]\n",
    "print \"ou de maniere analogue : \"\n",
    "print \"precision en train : \",res_train\n",
    "print \"precision en test : \",res_test\n",
    "print \"moyenne train : \",np.mean(res_train),\" (\", np.std(res_train),\")\"             \n",
    "print \"moyenne test : \",np.mean(res_test),\" (\",np.std(res_test),\")\"\n",
    "             \n",
    "    "
   ]
  },
  {
   "cell_type": "markdown",
   "metadata": {},
   "source": [
    "*<font style=\"BACKGROUND-COLOR: lightgray\" color='red'>Manipuler sur les différents types de génération artificielle ces fonctions afin de trouver les meilleurs paramètres selon le problème. Tracer l'erreur d'apprentissage et l'erreur de test en fonction des paramètres étudiés. Que se passe-t-il pour des profondeurs trop élevées des arbres ?</font>*"
   ]
  },
  {
   "cell_type": "markdown",
   "metadata": {},
   "source": [
    "## Classification données USPS\n",
    "\n",
    "Tester sur les données USPS (en sélectionnant quelques sous-classes). Observer l'importance des variables. Afficher la matrice 2D de la variable importance de chaque pixel de l'image (avec **plt.imshow(matrix)**). Les résultats semble-t-ils cohérents ? \n",
    "Utiliser l'algorithme du perceptron fourni par sklearn (**linear_model.Perceptron**) ou le votre et comparer les résultats obtenus pour les poids.\n",
    "\n",
    "Sur quelques exemples, comparer les performances des arbres et du Perceptron en utilisant la validation croisée pour calibrer au mieux vos modèles. \n",
    "\n",
    "Expérimenter également les fôrets aléatoires : c'est une méthode de baging très utilisée, qui consiste à considérer un ensemble d'arbres appris chacun sur un échantillonage aléatoire de la base d'exemples; la classification se fait par vote majoritaire (**enemble.RandomForestClassifier()**).\n",
    "\n",
    "\n",
    "## Classification sur la base movielens \n",
    "\n",
    "La base movielens est une base de données issue d'imdb, qui contient des informations sur des films (le genre, l'année de production, des tags) et des notes attribuées par les utilisateurs. Elle est utilisée généralement pour la recommendation de films. Nous allons l'utiliser dans le cadre de la classification, afin de prédire si un film est bon ou mauvais, dans deux contextes :\n",
    "\n",
    "+ en prenant en compte uniquement l'information sur le film et le score moyen du film\n",
    "\n",
    "+ en prenant en compte l'information de l'utilisateur qui score le film\n",
    "\n",
    "Télécharger l'[archive suivante](http://www-connex.lip6.fr/~baskiotisn/ARF15/imdb_extrait.pkl)\n",
    "\n",
    "Le bloc de code suivant est utilisé pour  charger et prétraiter les données.\n"
   ]
  },
  {
   "cell_type": "code",
   "execution_count": null,
   "metadata": {
    "collapsed": false
   },
   "outputs": [],
   "source": [
    "import cPickle\n",
    "[data,id2titles, fields]=cPickle.load(file(\"imdb_extrait.pkl\"))\n",
    "datax = data[:,:32]\n",
    "datay= np.array([1 if x[33]>6.5 else -1 for x in data]) # seuil de bon film a 6.5\n"
   ]
  },
  {
   "cell_type": "markdown",
   "metadata": {},
   "source": [
    "Les informations suivantes sont stockées :\n",
    "\n",
    "+ fields : liste des champs utilisés (28 genres, durée, couleur ou noir/blanc, année, budget,nombre de votes et rating)\n",
    "\n",
    "+ data : une matrice, chaque ligne un film, chaque colonne un champs, 1 indique le genre s'applique au film, 0 non.\n",
    "\n",
    "+ id2titles : pour chaque index de film, le titre du film\n",
    "\n",
    "### Classification à partir de l'information unique du film\n",
    "+ *<font style=\"BACKGROUND-COLOR: lightgray\" color='red'> Expérimenter les arbres de décisions et le perceptron pour cette tâche. L'ordre de grandeur de chaque dimension joue-t-il un role ? sur quelles dimensions cela peut poser problème ? </font>*\n",
    "\n",
    "+ *<font style=\"BACKGROUND-COLOR: lightgray\" color='red'> Sur quelques paramètres, que remarquez vous sur l'erreur d'apprentissage et de test ?</font>*\n",
    "\n",
    "+ *<font style=\"BACKGROUND-COLOR: lightgray\" color='red'> La taille de l'ensemble de test joue-t-elle un rôle ?</font>*\n",
    "\n",
    "+ *<font style=\"BACKGROUND-COLOR: lightgray\" color='red'> Tracer les courbes de ces deux erreurs en fonction de la profondeur. Que remarquez vous ? Quels sont les meilleurs paramètres pour l'erreur en apprentissage et en test ?</font>*\n",
    "\n",
    "+ *<font style=\"BACKGROUND-COLOR: lightgray\" color='red'> Quelles sont les variables les plus importantes ?  </font>*\n"
   ]
  }
 ],
 "metadata": {
  "kernelspec": {
   "display_name": "Python 3",
   "language": "python",
   "name": "python3"
  },
  "language_info": {
   "codemirror_mode": {
    "name": "ipython",
    "version": 3
   },
   "file_extension": ".py",
   "mimetype": "text/x-python",
   "name": "python",
   "nbconvert_exporter": "python",
   "pygments_lexer": "ipython3",
   "version": "3.5.1"
  }
 },
 "nbformat": 4,
 "nbformat_minor": 0
}
